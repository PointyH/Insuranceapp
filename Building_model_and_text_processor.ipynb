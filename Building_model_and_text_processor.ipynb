{
 "cells": [
  {
   "cell_type": "code",
   "execution_count": 8,
   "id": "fa48cac1-7c43-47a9-b342-9e4c9b7bf543",
   "metadata": {},
   "outputs": [],
   "source": [
    "import pandas as pd\n",
    "import pickle\n",
    "from sklearn.linear_model import LinearRegression\n",
    "from sklearn.model_selection import train_test_split\n",
    "from sklearn.model_selection import GridSearchCV\n",
    "from sklearn.preprocessing import OrdinalEncoder\n",
    "from sklearn.metrics import root_mean_squared_error as rmse\n",
    "\n",
    "import warnings\n",
    "warnings.filterwarnings(\"ignore\")"
   ]
  },
  {
   "cell_type": "code",
   "execution_count": 4,
   "id": "a073748c-93ee-4066-a4a9-e11d1b8589a8",
   "metadata": {},
   "outputs": [
    {
     "name": "stdout",
     "output_type": "stream",
     "text": [
      "      age     sex     bmi  children smoker      charges\n",
      "696    41    male  35.750         1    yes  40273.64550\n",
      "1134   50  female  28.120         3     no  11085.58680\n",
      "255    55  female  25.365         3     no  13047.33235\n",
      "36     62  female  32.965         3     no  15612.19335\n",
      "710    50  female  23.540         2     no  10107.22060\n"
     ]
    }
   ],
   "source": [
    "#import clean data\n",
    "ML_data = pd.read_csv('ML_insurance_data_clean.csv')\n",
    "ML_data = ML_data.sample(frac=1)\n",
    "print(ML_data.head())"
   ]
  },
  {
   "cell_type": "code",
   "execution_count": 5,
   "id": "00dfd9da-f3c2-4ce5-ace9-3bc486ca16cd",
   "metadata": {},
   "outputs": [],
   "source": [
    "#train processor to convert sex and smoker to boolean\n",
    "cat_col = ML_data[['sex','smoker']]\n",
    "text_processor = OrdinalEncoder()\n",
    "result = text_processor.fit_transform(cat_col)\n",
    "pickle.dump(text_processor,open('text_processor.pkl','wb'))"
   ]
  },
  {
   "cell_type": "code",
   "execution_count": 6,
   "id": "e48b7eb3-9785-4509-ab65-89f3fb98adf4",
   "metadata": {},
   "outputs": [],
   "source": [
    "#run processor on data\n",
    "sex, smoker = text_processor.transform(ML_data[['sex','smoker']]).transpose()\n",
    "ML_data['sex'] = sex\n",
    "ML_data['smoker'] = smoker"
   ]
  },
  {
   "cell_type": "code",
   "execution_count": 7,
   "id": "d41ff56b-2e9b-43f4-a624-05c66a1858da",
   "metadata": {},
   "outputs": [],
   "source": [
    "#split train and test\n",
    "X = ML_data.drop(columns=['charges'])\n",
    "y = ML_data.charges\n",
    "\n",
    "X_train, X_test, y_train, y_test = train_test_split(X, y,train_size=0.8)"
   ]
  },
  {
   "cell_type": "code",
   "execution_count": 13,
   "id": "015b2dc8-4200-4e67-a719-9092e983beeb",
   "metadata": {},
   "outputs": [
    {
     "name": "stdout",
     "output_type": "stream",
     "text": [
      "Fitting 5 folds for each of 52 candidates, totalling 260 fits\n",
      "Best Parameters: {'fit_intercept': True, 'positive': True, 'tol': 1e-16}\n",
      "Best Estimator: LinearRegression(positive=True, tol=1e-16)\n"
     ]
    }
   ],
   "source": [
    "#train model using grid search to optimise parameters\n",
    "parameters = {'fit_intercept':[True,False],\n",
    "    'positive':[True,False],\n",
    "    'tol':[1e-16,1e-15,1e-14,1e-13,1e-12,1e-11,1e-10,1e-9,1e-8,1e-7,1e-6,1e-5,1e-4]}\n",
    "\n",
    "grid_search = GridSearchCV(LinearRegression(), param_grid=parameters, cv=5, verbose=1)\n",
    "grid_search.fit(X_train, y_train)\n",
    "\n",
    "print(\"Best Parameters:\", grid_search.best_params_)\n",
    "print(\"Best Estimator:\", grid_search.best_estimator_)"
   ]
  },
  {
   "cell_type": "code",
   "execution_count": 14,
   "id": "2c202730-b937-4081-9d28-ff1c2227819f",
   "metadata": {},
   "outputs": [
    {
     "name": "stdout",
     "output_type": "stream",
     "text": [
      "5721.630698959106\n"
     ]
    }
   ],
   "source": [
    "#Calculate unbiased performance metric\n",
    "pred = grid_search.best_estimator_.predict(X_test)\n",
    "print(rmse(pred, y_test))"
   ]
  },
  {
   "cell_type": "code",
   "execution_count": 8,
   "id": "e7f5a65f-75d5-49b3-a477-4d1e6fb66b8a",
   "metadata": {},
   "outputs": [],
   "source": [
    "#export model\n",
    "import pickle\n",
    "pickle.dump(grid_search.best_estimator_,open('model.pkl','wb'))"
   ]
  },
  {
   "cell_type": "code",
   "execution_count": null,
   "id": "58010060-f25f-442e-a257-033d2152edcd",
   "metadata": {},
   "outputs": [],
   "source": []
  }
 ],
 "metadata": {
  "kernelspec": {
   "display_name": "Python 3 (ipykernel)",
   "language": "python",
   "name": "python3"
  },
  "language_info": {
   "codemirror_mode": {
    "name": "ipython",
    "version": 3
   },
   "file_extension": ".py",
   "mimetype": "text/x-python",
   "name": "python",
   "nbconvert_exporter": "python",
   "pygments_lexer": "ipython3",
   "version": "3.11.9"
  }
 },
 "nbformat": 4,
 "nbformat_minor": 5
}
