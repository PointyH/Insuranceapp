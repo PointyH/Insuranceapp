{
 "cells": [
  {
   "cell_type": "code",
   "execution_count": 42,
   "id": "fa48cac1-7c43-47a9-b342-9e4c9b7bf543",
   "metadata": {},
   "outputs": [],
   "source": [
    "import pandas as pd\n",
    "import pickle\n",
    "from sklearn.ensemble import RandomForestRegressor\n",
    "from sklearn.model_selection import train_test_split\n",
    "from sklearn.model_selection import GridSearchCV\n",
    "from sklearn.preprocessing import OrdinalEncoder\n",
    "from sklearn.metrics import root_mean_squared_error as rmse\n",
    "\n",
    "import warnings\n",
    "warnings.filterwarnings(\"ignore\")"
   ]
  },
  {
   "cell_type": "code",
   "execution_count": 12,
   "id": "a073748c-93ee-4066-a4a9-e11d1b8589a8",
   "metadata": {},
   "outputs": [
    {
     "name": "stdout",
     "output_type": "stream",
     "text": [
      "      age     bmi  children smoker      charges\n",
      "1290   19  34.900         0    yes  34828.65400\n",
      "6      46  33.440         1     no   8240.58960\n",
      "284    52  31.200         0     no   9625.92000\n",
      "1043   55  35.245         1     no  11394.06555\n",
      "94     64  31.300         2    yes  47291.05500\n"
     ]
    }
   ],
   "source": [
    "#import clean data\n",
    "ML_data = pd.read_csv('ML_insurance_data_clean.csv')\n",
    "ML_data = ML_data.sample(frac=1)\n",
    "print(ML_data.head())"
   ]
  },
  {
   "cell_type": "code",
   "execution_count": 14,
   "id": "00dfd9da-f3c2-4ce5-ace9-3bc486ca16cd",
   "metadata": {},
   "outputs": [],
   "source": [
    "#train processor to convert sex and smoker to boolean\n",
    "cat_col = ML_data[['smoker']]\n",
    "text_processor = OrdinalEncoder()\n",
    "result = text_processor.fit_transform(cat_col)\n",
    "pickle.dump(text_processor,open('text_processor.pkl','wb'))"
   ]
  },
  {
   "cell_type": "code",
   "execution_count": 22,
   "id": "e48b7eb3-9785-4509-ab65-89f3fb98adf4",
   "metadata": {},
   "outputs": [],
   "source": [
    "#run processor on data\n",
    "smoker = text_processor.transform(ML_data[['smoker']])\n",
    "ML_data['smoker'] = smoker"
   ]
  },
  {
   "cell_type": "code",
   "execution_count": 23,
   "id": "d41ff56b-2e9b-43f4-a624-05c66a1858da",
   "metadata": {},
   "outputs": [],
   "source": [
    "#split train and test\n",
    "X = ML_data.drop(columns=['charges'])\n",
    "y = ML_data.charges\n",
    "\n",
    "X_train, X_test, y_train, y_test = train_test_split(X, y,train_size=0.8)"
   ]
  },
  {
   "cell_type": "code",
   "execution_count": 43,
   "id": "015b2dc8-4200-4e67-a719-9092e983beeb",
   "metadata": {},
   "outputs": [
    {
     "name": "stdout",
     "output_type": "stream",
     "text": [
      "Fitting 5 folds for each of 108 candidates, totalling 540 fits\n",
      "Best Parameters: {'bootstrap': True, 'max_depth': 10, 'min_samples_leaf': 3, 'min_samples_split': 5, 'n_estimators': 500}\n",
      "Best Estimator: RandomForestRegressor(max_depth=10, min_samples_leaf=3, min_samples_split=5,\n",
      "                      n_estimators=500)\n"
     ]
    }
   ],
   "source": [
    "#train model using grid search to optimise parameters\n",
    "parameters = {'n_estimators': [100, 300, 500],\n",
    "              'max_depth': [None, 10, 20],\n",
    "              'min_samples_split': [None, 2, 5],\n",
    "              'min_samples_leaf': [2, 3],\n",
    "              'bootstrap': [True, False]}\n",
    "\n",
    "grid_search = GridSearchCV(RandomForestRegressor(), param_grid=parameters, cv=5, verbose=1)\n",
    "grid_search.fit(X_train, y_train)\n",
    "\n",
    "print(\"Best Parameters:\", grid_search.best_params_)\n",
    "print(\"Best Estimator:\", grid_search.best_estimator_)"
   ]
  },
  {
   "cell_type": "code",
   "execution_count": 44,
   "id": "2c202730-b937-4081-9d28-ff1c2227819f",
   "metadata": {},
   "outputs": [
    {
     "name": "stdout",
     "output_type": "stream",
     "text": [
      "5064.897785853082\n"
     ]
    }
   ],
   "source": [
    "#Calculate unbiased performance metric\n",
    "pred = grid_search.best_estimator_.predict(X_test)\n",
    "print(rmse(pred, y_test))"
   ]
  },
  {
   "cell_type": "code",
   "execution_count": 46,
   "id": "e7f5a65f-75d5-49b3-a477-4d1e6fb66b8a",
   "metadata": {},
   "outputs": [],
   "source": [
    "#export model\n",
    "import pickle\n",
    "pickle.dump(grid_search.best_estimator_,open('model.pkl','wb'))"
   ]
  },
  {
   "cell_type": "code",
   "execution_count": null,
   "id": "385deb8a-ef22-4882-a38a-8215d689b9c2",
   "metadata": {},
   "outputs": [],
   "source": []
  }
 ],
 "metadata": {
  "kernelspec": {
   "display_name": "Python 3 (ipykernel)",
   "language": "python",
   "name": "python3"
  },
  "language_info": {
   "codemirror_mode": {
    "name": "ipython",
    "version": 3
   },
   "file_extension": ".py",
   "mimetype": "text/x-python",
   "name": "python",
   "nbconvert_exporter": "python",
   "pygments_lexer": "ipython3",
   "version": "3.11.9"
  }
 },
 "nbformat": 4,
 "nbformat_minor": 5
}
